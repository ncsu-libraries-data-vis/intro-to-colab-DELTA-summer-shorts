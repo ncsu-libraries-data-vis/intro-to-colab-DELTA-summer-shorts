{
 "cells": [
  {
   "cell_type": "markdown",
   "metadata": {},
   "source": [
    "# An Introduction to Google Colaboratory\n",
    "\n",
    "> This notebook contains materials originally developed for a virtual session at the NC State University DELTA [Summer Shorts in Instructional Technologies 2021](https://sites.google.com/ncsu.edu/summer-shorts-2021) delivered on August 6, 2021. Summer Shorts in Instructional Technologies focuses on leveraging innovative NC State learning technologies and strategies to improve student success.\n",
    "\n",
    "This is an interactive, Python computational notebook that provides a hands-on demonstration of using Google Colaboratory, or “Colab” for short. Colab is a computational notebook environment that allows users to run Python code in the browser without having to download or install anything."
   ]
  },
  {
   "cell_type": "markdown",
   "metadata": {},
   "source": [
    "## About the Workshop\n",
    "- agenda and objectives\n",
    "- expectations"
   ]
  },
  {
   "cell_type": "markdown",
   "metadata": {},
   "source": [
    "## What is a computational notebook and what does Google Colab offer?"
   ]
  },
  {
   "cell_type": "markdown",
   "metadata": {},
   "source": [
    "Computational notebooks are a type of literate programming document, where you write and evaluate code, view your data and plots, and write explanations and full text all in one document. While there are many forms of computational notebooks, one of the most common today is the Jupyter notebook, which we see particularly often in data science. Jupyter started in the Python ecosystem, but can now support interactive programming in many different languages. \n",
    "\n",
    "Computational notebooks are a great learning tool, since they allow you to see immediate output and easily document the code you are writing. They are often used to prototype code, where you might need to repeatedly adjust and re-run chunks of code as part of an analysis. You can then export the code into a standard script file, such as a `.py` file. \n",
    "\n",
    "Google Colaboratory is a free-to-use, hosted version of Jupyter. It allows you to create notebooks and run them using Google's servers and processing power, and even offers free access to GPUs. Notebooks are stored in your Google Drive, can be shared with others, and exported to the standard open-source `ipynb` format used by Jupyter or to normal Python files. There are limitations to the memory allocated to each notebook, and to how long notebooks can run, but Google provides a remarkable amount of resources for no financial cost. "
   ]
  },
  {
   "cell_type": "markdown",
   "metadata": {},
   "source": [
    "## A brief overview of a Python notebook and the Colab interface"
   ]
  },
  {
   "cell_type": "markdown",
   "metadata": {},
   "source": [
    "### Cells\n",
    "\n",
    "The main structure of a notebook consists of a list of cells. There are two types of cells in Colab:\n",
    "\n",
    "1. **Text cells** for including formatted, descriptive text\n",
    "1. **Code cells** for writting and executing Python code"
   ]
  },
  {
   "cell_type": "markdown",
   "metadata": {},
   "source": [
    "#### Text Cells\n",
    "\n",
    "Text cells use markdown syntax to generate formatted text that can be used to add context and organization to your notebook. **Double-click** on this text cell to enable edit mode.\n",
    "\n",
    "**This example markdown:**\n",
    "\n",
    "```markdown\n",
    "# Section 1\n",
    "## Sub-section 1.1\n",
    "### Sub-section 1.1.1\n",
    "# Section 2\n",
    "## Sub-section 2.1\n",
    "\n",
    "A list demonstrating:\n",
    "- **Bold text**\n",
    "- *Italicized text*\n",
    "- [Links](https://www.lib.ncsu.edu/services/data-visualization)\n",
    "- `code`\n",
    "    1. Ordered lists\n",
    "    2. More ordered lists\n",
    "```\n",
    "**Produces this formatted text:**\n",
    "\n",
    "# Section 1\n",
    "## Sub-section 1.1\n",
    "### Sub-section 1.1.1\n",
    "# Section 2\n",
    "## Sub-section 2.1\n",
    "\n",
    "A list demonstrating:\n",
    "- **Bold text**\n",
    "- *Italicized text*\n",
    "- [Links](https://www.lib.ncsu.edu/services/data-visualization)\n",
    "- `code`\n",
    "    1. Ordered lists\n",
    "    2. More ordered lists\n",
    "\n",
    "See the [Markdown Guide](https://www.markdownguide.org/cheat-sheet/) to learn more about the Markdown syntax."
   ]
  },
  {
   "cell_type": "markdown",
   "metadata": {},
   "source": [
    "#### Code Cells\n",
    "\n",
    "Code cells contain lines of code. Output appears just below the cell. To run a code cell, click inside of the cell and do one of the following:\n",
    "\n",
    "* Click the **Play icon** in the left gutter of the cell\n",
    "* Type **Cmd/Ctrl+Enter** to run the cell in place\n",
    "* Type **Shift+Enter** to run the cell and move focus to the next cell (adding one if none exists)\n",
    "* Type **Alt+Enter** to run the cell and insert a new code cell immediately below it.\n",
    "\n",
    "There are additional options for running some or all cells in the **Runtime** menu."
   ]
  },
  {
   "cell_type": "code",
   "execution_count": 1,
   "metadata": {},
   "outputs": [
    {
     "name": "stdout",
     "output_type": "stream",
     "text": [
      "chicken\n",
      "cheetah\n",
      "crab\n"
     ]
    }
   ],
   "source": [
    "# Create a list of words\n",
    "animals = [\"chicken\", \"lizard\", \"tiger\", \"cheetah\", \"penguin\", \"crab\"]\n",
    "\n",
    "# For each word in the list\n",
    "for word in animals:\n",
    "    # If the word starts with the letter c\n",
    "    if word.startswith(\"c\" or \"C\"):\n",
    "        # Print out the word\n",
    "        print(word)"
   ]
  },
  {
   "cell_type": "markdown",
   "metadata": {},
   "source": [
    "### Colab User Interface\n",
    "\n",
    "Colab provides an interface for easily navigating and editing a notebook as well as helpful utilities to support code generation and access to files."
   ]
  },
  {
   "cell_type": "markdown",
   "metadata": {},
   "source": [
    "#### Table of Contents\n",
    "\n",
    "The table of contents, available on the left side of Colab, is populated using at most one section header (i.e., markdown text preceded by one or more `#`) from each text cell. Section headers can be used to organize your notebook and improve nagivation for other users."
   ]
  },
  {
   "cell_type": "markdown",
   "metadata": {},
   "source": [
    "#### Find and Replace\n",
    "\n",
    "Find and replace is accessible through the magnifying glass button on the left side of Colab. This functionality allows you to easily find text in a notebook and optionally replace them with new text. This can be useful, for example, for replacing a variable name used in multiple locations. *Note that find and replace also returns results from text cells.*"
   ]
  },
  {
   "cell_type": "markdown",
   "metadata": {},
   "source": [
    "#### Code Snippets\n",
    "\n",
    "Code snippets are accessible through the angled brackets (< >) button on the left side of Colab and provide a searchable collection of pre-written code snippets that provide specific functionality such as importing data from Google Sheets, installing additional Python libraries, and saving data to Google Drive."
   ]
  },
  {
   "cell_type": "markdown",
   "metadata": {},
   "source": [
    "#### Files\n",
    "\n",
    "You can browse the files and folders available in the Colab envrionment through the file button on the left side of Colab. By default, the file browser starts in a folder titled *content* containing one folder titled *sample data*. The file browser can be helpful after loading or connecting to external data storage such as Google Drive or a GitHub repository.\n",
    "\n",
    "Through the Files interface it is possible to upload a file from your local machine or connect to your Google Drive. Note that files uploaded into Colab will not persist if the page is closed or reloaded. It is recommended that you use a connection to Google Drive or a connection to an external data source if you plan to share your notebook or use it across multiple development sessions. *Accessing various data sources is covered later in this notebook*"
   ]
  },
  {
   "cell_type": "markdown",
   "metadata": {},
   "source": [
    "### Features\n",
    "\n",
    "Colab includes several features that are provided in Jupyter Notebooks, such as access to defined variables and functions across cells and cell output, as well as some additional code exploration and completion features."
   ]
  },
  {
   "cell_type": "markdown",
   "metadata": {},
   "source": [
    "#### Sharing code across cells\n",
    "\n",
    "Using code cells allows you to seperate logical chunks of code and run them independently. This organization supports improved troubleshooting and testing when writing new code and debugging sections of code and is well suited for creating step-by-step learning procedures.\n",
    "\n",
    "**Once you run a cell, you can use any variables or functions defined in that cell in other cells.**"
   ]
  },
  {
   "cell_type": "code",
   "execution_count": 4,
   "metadata": {},
   "outputs": [],
   "source": [
    "event_name = \"DELTA Summer Shorts\"\n",
    "workshop_topic = \"Google Colaboratory\""
   ]
  },
  {
   "cell_type": "code",
   "execution_count": 2,
   "metadata": {},
   "outputs": [],
   "source": [
    "# A function that generates a welcome message\n",
    "def generate_welcome_message(event, topic):\n",
    "    return f\"Welcome to our {event_name} session on {workshop_topic}!\""
   ]
  },
  {
   "cell_type": "code",
   "execution_count": 5,
   "metadata": {},
   "outputs": [
    {
     "output_type": "stream",
     "name": "stdout",
     "text": [
      "Welcome to our DELTA Summer Shorts session on Google Colaboratory!\n"
     ]
    }
   ],
   "source": [
    "welcome = generate_welcome_message(event_name, workshop_topic)\n",
    "\n",
    "print(welcome)"
   ]
  },
  {
   "cell_type": "markdown",
   "metadata": {},
   "source": [
    "#### Cell output\n",
    "\n",
    "By default, in Colab the last line that produces a value in a code cell is printed. To print an expression that is not at the end of a code cell use the `print()` function"
   ]
  },
  {
   "cell_type": "code",
   "execution_count": 6,
   "metadata": {},
   "outputs": [
    {
     "name": "stdout",
     "output_type": "stream",
     "text": [
      "This line will print.\n"
     ]
    },
    {
     "data": {
      "text/plain": [
       "'This is the last line, so it will also print.'"
      ]
     },
     "execution_count": 6,
     "metadata": {},
     "output_type": "execute_result"
    }
   ],
   "source": [
    "print('This string is printed using the print function')\n",
    "\n",
    "'This line is not printed'\n",
    "\n",
    "'This string is printed because it is the last line in a code cell'"
   ]
  },
  {
   "source": [
    "Colab also supports formatted output such as tables and visualizations.\n",
    "\n",
    "In the following cell the [pandas](https://pandas.pydata.org/) library is used to create a DataFrame of fruits and fruit counts. When this DataFrame is printed it is automatically displayed as a formatted table."
   ],
   "cell_type": "markdown",
   "metadata": {}
  },
  {
   "cell_type": "code",
   "execution_count": 3,
   "metadata": {},
   "outputs": [
    {
     "output_type": "execute_result",
     "data": {
      "text/plain": [
       "          fruit  count\n",
       "0  strawberries     20\n",
       "1    pineapples      2\n",
       "2       bananas      6"
      ],
      "text/html": "<div>\n<style scoped>\n    .dataframe tbody tr th:only-of-type {\n        vertical-align: middle;\n    }\n\n    .dataframe tbody tr th {\n        vertical-align: top;\n    }\n\n    .dataframe thead th {\n        text-align: right;\n    }\n</style>\n<table border=\"1\" class=\"dataframe\">\n  <thead>\n    <tr style=\"text-align: right;\">\n      <th></th>\n      <th>fruit</th>\n      <th>count</th>\n    </tr>\n  </thead>\n  <tbody>\n    <tr>\n      <th>0</th>\n      <td>strawberries</td>\n      <td>20</td>\n    </tr>\n    <tr>\n      <th>1</th>\n      <td>pineapples</td>\n      <td>2</td>\n    </tr>\n    <tr>\n      <th>2</th>\n      <td>bananas</td>\n      <td>6</td>\n    </tr>\n  </tbody>\n</table>\n</div>"
     },
     "metadata": {},
     "execution_count": 3
    }
   ],
   "source": [
    "import pandas as pd\n",
    "\n",
    "# Create a table of fruits and the number of each type\n",
    "fruit = pd.DataFrame({'fruit': ['strawberries', 'pineapples', 'bananas'], 'count': [20, 2, 6]})\n",
    "fruit"
   ]
  },
  {
   "source": [
    "In the following cell the [Altair](https://altair-viz.github.io/) visualization library is used to create a horizontal bar chart of fruit counts from the `fruit` DataFrame. Colab can display visualizations created with numerous Python visualization libraries."
   ],
   "cell_type": "markdown",
   "metadata": {}
  },
  {
   "cell_type": "code",
   "execution_count": 10,
   "metadata": {},
   "outputs": [
    {
     "output_type": "execute_result",
     "data": {
      "text/html": "\n<div id=\"altair-viz-66b99a4a9f844d32b6bf8f802b0632b9\"></div>\n<script type=\"text/javascript\">\n  (function(spec, embedOpt){\n    let outputDiv = document.currentScript.previousElementSibling;\n    if (outputDiv.id !== \"altair-viz-66b99a4a9f844d32b6bf8f802b0632b9\") {\n      outputDiv = document.getElementById(\"altair-viz-66b99a4a9f844d32b6bf8f802b0632b9\");\n    }\n    const paths = {\n      \"vega\": \"https://cdn.jsdelivr.net/npm//vega@5?noext\",\n      \"vega-lib\": \"https://cdn.jsdelivr.net/npm//vega-lib?noext\",\n      \"vega-lite\": \"https://cdn.jsdelivr.net/npm//vega-lite@4.8.1?noext\",\n      \"vega-embed\": \"https://cdn.jsdelivr.net/npm//vega-embed@6?noext\",\n    };\n\n    function loadScript(lib) {\n      return new Promise(function(resolve, reject) {\n        var s = document.createElement('script');\n        s.src = paths[lib];\n        s.async = true;\n        s.onload = () => resolve(paths[lib]);\n        s.onerror = () => reject(`Error loading script: ${paths[lib]}`);\n        document.getElementsByTagName(\"head\")[0].appendChild(s);\n      });\n    }\n\n    function showError(err) {\n      outputDiv.innerHTML = `<div class=\"error\" style=\"color:red;\">${err}</div>`;\n      throw err;\n    }\n\n    function displayChart(vegaEmbed) {\n      vegaEmbed(outputDiv, spec, embedOpt)\n        .catch(err => showError(`Javascript Error: ${err.message}<br>This usually means there's a typo in your chart specification. See the javascript console for the full traceback.`));\n    }\n\n    if(typeof define === \"function\" && define.amd) {\n      requirejs.config({paths});\n      require([\"vega-embed\"], displayChart, err => showError(`Error loading script: ${err.message}`));\n    } else if (typeof vegaEmbed === \"function\") {\n      displayChart(vegaEmbed);\n    } else {\n      loadScript(\"vega\")\n        .then(() => loadScript(\"vega-lite\"))\n        .then(() => loadScript(\"vega-embed\"))\n        .catch(showError)\n        .then(() => displayChart(vegaEmbed));\n    }\n  })({\"config\": {\"view\": {\"continuousWidth\": 400, \"continuousHeight\": 300}}, \"data\": {\"name\": \"data-0626c5edd2559ba31ca777d48f425297\"}, \"mark\": \"bar\", \"encoding\": {\"x\": {\"type\": \"quantitative\", \"field\": \"count\"}, \"y\": {\"type\": \"nominal\", \"field\": \"fruit\"}}, \"height\": 150, \"width\": 200, \"$schema\": \"https://vega.github.io/schema/vega-lite/v4.8.1.json\", \"datasets\": {\"data-0626c5edd2559ba31ca777d48f425297\": [{\"fruit\": \"strawberries\", \"count\": 20}, {\"fruit\": \"pineapples\", \"count\": 2}, {\"fruit\": \"bananas\", \"count\": 6}]}}, {\"mode\": \"vega-lite\"});\n</script>",
      "text/plain": [
       "alt.Chart(...)"
      ]
     },
     "metadata": {},
     "execution_count": 10
    }
   ],
   "source": [
    "import altair as alt\n",
    "\n",
    "alt.Chart(fruit).mark_bar().encode(\n",
    "    x=\"count\",\n",
    "    y=\"fruit\"\n",
    ").properties(\n",
    "    width=200,\n",
    "    height=150\n",
    ")"
   ]
  },
  {
   "cell_type": "markdown",
   "metadata": {},
   "source": [
    "#### Code help\n",
    "\n",
    "Colab provides coding support in the form of easily accessible code documentation and automatic completion.\n",
    "\n",
    "One way to look up documentation for a specific function is to type the name of the function with a ? after it and run the cell. This will bring up a help window."
   ]
  },
  {
   "cell_type": "code",
   "execution_count": 11,
   "metadata": {},
   "outputs": [
    {
     "output_type": "stream",
     "text": [
      "\u001b[0;31mSignature:\u001b[0m \u001b[0mlen\u001b[0m\u001b[0;34m(\u001b[0m\u001b[0mobj\u001b[0m\u001b[0;34m,\u001b[0m \u001b[0;34m/\u001b[0m\u001b[0;34m)\u001b[0m\u001b[0;34m\u001b[0m\u001b[0;34m\u001b[0m\u001b[0m\n",
      "\u001b[0;31mDocstring:\u001b[0m Return the number of items in a container.\n",
      "\u001b[0;31mType:\u001b[0m      builtin_function_or_method\n"
     ],
     "name": "stdout"
    }
   ],
   "source": [
    "#Run this cell to find out what len does\n",
    "len?"
   ]
  },
  {
   "source": [
    "Using the pandas library imported earlier, you can test the autocompletion functionality in the cell below by typing a **Period** (**.**) after `pd`. You can also open the completion list by pressing **Ctrl+Space**."
   ],
   "cell_type": "markdown",
   "metadata": {}
  },
  {
   "cell_type": "code",
   "execution_count": null,
   "metadata": {},
   "outputs": [],
   "source": [
    "# Add a period \".\" after pd to view a list of methods available on the pandas module\n",
    "pd"
   ]
  },
  {
   "source": [
    "A documentation pop-up will also appear for functions after typing the open parenthesis of a function call. You can also open the documentation pop-up by pressing **Ctrl+Shift+Space** when the curser is between the parentheses or hovering over the method name."
   ],
   "cell_type": "markdown",
   "metadata": {}
  },
  {
   "cell_type": "code",
   "execution_count": 12,
   "metadata": {},
   "outputs": [
    {
     "output_type": "execute_result",
     "data": {
      "text/plain": [
       "pandas.core.frame.DataFrame"
      ]
     },
     "metadata": {},
     "execution_count": 12
    }
   ],
   "source": [
    "# Add an open parenthesis \"(\" after DataFrame to view a pop-up containing documentation for the DataFrame method\n",
    "pd.DataFrame"
   ]
  },
  {
   "cell_type": "markdown",
   "metadata": {},
   "source": [
    "## Accessing data"
   ]
  },
  {
   "cell_type": "markdown",
   "metadata": {},
   "source": [
    "### Connect to Google Drive"
   ]
  },
  {
   "cell_type": "markdown",
   "metadata": {},
   "source": [
    "### Connect to Google Sheets"
   ]
  },
  {
   "cell_type": "markdown",
   "metadata": {},
   "source": [
    "### Connect to external data source"
   ]
  },
  {
   "cell_type": "markdown",
   "metadata": {},
   "source": [
    "## Sharing a notebook from Colab"
   ]
  },
  {
   "cell_type": "markdown",
   "metadata": {},
   "source": [
    "## Finding and opening notebooks in Colab"
   ]
  },
  {
   "cell_type": "code",
   "execution_count": null,
   "metadata": {},
   "outputs": [],
   "source": []
  }
 ],
 "metadata": {
  "interpreter": {
   "hash": "1e42063d975c0c93cb52dab8d6fd0977fae18596e8917bdcf236b39e16eda17b"
  },
  "kernelspec": {
   "name": "python3",
   "display_name": "Python 3.8.10 64-bit ('streamlit': conda)"
  },
  "language_info": {
   "codemirror_mode": {
    "name": "ipython",
    "version": 3
   },
   "file_extension": ".py",
   "mimetype": "text/x-python",
   "name": "python",
   "nbconvert_exporter": "python",
   "pygments_lexer": "ipython3",
   "version": "3.8.10"
  }
 },
 "nbformat": 4,
 "nbformat_minor": 2
}