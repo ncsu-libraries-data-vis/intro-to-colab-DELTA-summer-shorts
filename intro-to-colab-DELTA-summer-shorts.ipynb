{
 "cells": [
  {
   "cell_type": "markdown",
   "source": [
    "# An Introduction to Google Colaboratory\n",
    "\n",
    "> This notebook contains materials originally developed for a virtual session at the NC State University DELTA [Summer Shorts in Instructional Technologies 2021](https://sites.google.com/ncsu.edu/summer-shorts-2021) delivered on August 6, 2021. Summer Shorts in Instructional Technologies focuses on leveraging innovative NC State learning technologies and strategies to improve student success.\n",
    "\n",
    "This is an interactive, Python computational notebook that provides a hands-on demonstration of using Google Colaboratory, or “Colab” for short. Colab is a computational notebook environment that allows users to run Python code in the browser without having to download or install anything."
   ],
   "metadata": {}
  },
  {
   "cell_type": "markdown",
   "source": [
    "## About the Workshop\n",
    "\n",
    "### Agenda\n",
    "\n",
    "1. What is Google Colab?\n",
    "2. How to use a Google Colab Notebook\n",
    " - Text and code cells\n",
    " - User interface\n",
    " - Useful features in Colab\n",
    "3. Accessing data in a Colab Notebook\n",
    "4. Sharing Colab Notebooks\n",
    "5. Opening Colab Notebooks\n",
    "\n",
    "### Learning Objectives\n",
    "\n",
    "After this workshop, you will be able to create and share Colab notebooks and understand how Colab can support instructional and research initiatives\n"
   ],
   "metadata": {}
  },
  {
   "cell_type": "markdown",
   "source": [
    "## What is a computational notebook and what does Google Colab offer?"
   ],
   "metadata": {}
  },
  {
   "cell_type": "markdown",
   "source": [
    "Computational notebooks are a type of literate programming document, where you write and evaluate code, view your data and plots, and write explanations and full text all in one document. While there are many forms of computational notebooks, one of the most common today is the Jupyter notebook, which we see particularly often in data science. Jupyter started in the Python ecosystem, but can now support interactive programming in many different languages. \n",
    "\n",
    "Computational notebooks are a great learning tool, since they allow you to see immediate output and easily document the code you are writing. They are often used to prototype code, where you might need to repeatedly adjust and re-run chunks of code as part of an analysis. You can then export the code into a standard script file, such as a `.py` file. \n",
    "\n",
    "Google Colaboratory is a free-to-use, hosted version of Jupyter. It allows you to create notebooks and run them using Google's servers and processing power, and even offers free access to GPUs. Notebooks are stored in your Google Drive, can be shared with others, and exported to the standard open-source `ipynb` format used by Jupyter or to normal Python files. There are limitations to the memory allocated to each notebook, and to how long notebooks can run, but Google provides a remarkable amount of resources for no financial cost. "
   ],
   "metadata": {}
  },
  {
   "cell_type": "markdown",
   "source": [
    "## A brief overview of a Python notebook and the Colab interface"
   ],
   "metadata": {}
  },
  {
   "cell_type": "markdown",
   "source": [
    "### Cells\n",
    "\n",
    "The main structure of a notebook consists of a list of cells. There are two types of cells in Colab:\n",
    "\n",
    "1. **Text cells** for including formatted, descriptive text\n",
    "1. **Code cells** for writting and executing Python code"
   ],
   "metadata": {}
  },
  {
   "cell_type": "markdown",
   "source": [
    "#### Text Cells\n",
    "\n",
    "Text cells use markdown syntax to generate formatted text that can be used to add context and organization to your notebook. **Double-click** on this text cell to enable edit mode.\n",
    "\n",
    "**This example markdown:**\n",
    "\n",
    "```markdown\n",
    "# Section 1\n",
    "## Sub-section 1.1\n",
    "### Sub-section 1.1.1\n",
    "# Section 2\n",
    "## Sub-section 2.1\n",
    "\n",
    "A list demonstrating:\n",
    "- **Bold text**\n",
    "- *Italicized text*\n",
    "- [Links](https://www.lib.ncsu.edu/services/data-visualization)\n",
    "- `code`\n",
    "    1. Ordered lists\n",
    "    2. More ordered lists\n",
    "```\n",
    "**Produces this formatted text:**\n",
    "\n",
    "# Section 1\n",
    "## Sub-section 1.1\n",
    "### Sub-section 1.1.1\n",
    "# Section 2\n",
    "## Sub-section 2.1\n",
    "\n",
    "A list demonstrating:\n",
    "- **Bold text**\n",
    "- *Italicized text*\n",
    "- [Links](https://www.lib.ncsu.edu/services/data-visualization)\n",
    "- `code`\n",
    "    1. Ordered lists\n",
    "    2. More ordered lists\n",
    "\n",
    "See the [Markdown Guide](https://www.markdownguide.org/cheat-sheet/) to learn more about the Markdown syntax."
   ],
   "metadata": {}
  },
  {
   "cell_type": "markdown",
   "source": [
    "#### Code Cells\n",
    "\n",
    "Code cells contain lines of code. Output appears just below the cell. To run a code cell, click inside of the cell and do one of the following:\n",
    "\n",
    "* Click the **Play icon** in the left gutter of the cell\n",
    "* Type **Cmd/Ctrl+Enter** to run the cell in place\n",
    "* Type **Shift+Enter** to run the cell and move focus to the next cell (adding one if none exists)\n",
    "* Type **Alt+Enter** to run the cell and insert a new code cell immediately below it.\n",
    "\n",
    "There are additional options for running some or all cells in the **Runtime** menu."
   ],
   "metadata": {}
  },
  {
   "cell_type": "code",
   "execution_count": 1,
   "source": [
    "# Create a list of words\n",
    "animals = [\"chicken\", \"lizard\", \"tiger\", \"cheetah\", \"penguin\", \"crab\"]\n",
    "\n",
    "# For each word in the list\n",
    "for word in animals:\n",
    "    # If the word starts with the letter c\n",
    "    if word.startswith(\"c\" or \"C\"):\n",
    "        # Print out the word\n",
    "        print(word)"
   ],
   "outputs": [
    {
     "output_type": "stream",
     "name": "stdout",
     "text": [
      "chicken\n",
      "cheetah\n",
      "crab\n"
     ]
    }
   ],
   "metadata": {}
  },
  {
   "cell_type": "markdown",
   "source": [
    "### Colab User Interface\n",
    "\n",
    "Colab provides an interface for easily navigating and editing a notebook as well as helpful utilities to support code generation and access to files."
   ],
   "metadata": {}
  },
  {
   "cell_type": "markdown",
   "source": [
    "#### Table of Contents\n",
    "\n",
    "The table of contents, available on the left side of Colab, is populated using at most one section header (i.e., markdown text preceded by one or more `#`) from each text cell. Section headers can be used to organize your notebook and improve nagivation for other users."
   ],
   "metadata": {}
  },
  {
   "cell_type": "markdown",
   "source": [
    "#### Find and Replace\n",
    "\n",
    "Find and replace is accessible through the magnifying glass button on the left side of Colab. This functionality allows you to easily find text in a notebook and optionally replace them with new text. This can be useful, for example, for replacing a variable name used in multiple locations. *Note that find and replace also returns results from text cells.*"
   ],
   "metadata": {}
  },
  {
   "cell_type": "markdown",
   "source": [
    "#### Code Snippets\n",
    "\n",
    "Code snippets are accessible through the angled brackets (< >) button on the left side of Colab and provide a searchable collection of pre-written code snippets that provide specific functionality such as importing data from Google Sheets, installing additional Python libraries, and saving data to Google Drive."
   ],
   "metadata": {}
  },
  {
   "cell_type": "markdown",
   "source": [
    "#### Files\n",
    "\n",
    "You can browse the files and folders available in the Colab envrionment through the file button on the left side of Colab. By default, the file browser starts in a folder titled *content* containing one folder titled *sample data*. The file browser can be helpful after loading or connecting to external data storage such as Google Drive or a GitHub repository.\n",
    "\n",
    "Through the Files interface it is possible to upload a file from your local machine or connect to your Google Drive. Note that files uploaded into Colab will not persist if the page is closed or reloaded. It is recommended that you use a connection to Google Drive or a connection to an external data source if you plan to share your notebook or use it across multiple development sessions. *Accessing various data sources is covered later in this notebook*"
   ],
   "metadata": {}
  },
  {
   "cell_type": "markdown",
   "source": [
    "### Features\n",
    "\n",
    "Colab includes several features that are provided in Jupyter Notebooks, such as access to defined variables and functions across cells and cell output, as well as some additional code exploration and completion features."
   ],
   "metadata": {}
  },
  {
   "cell_type": "markdown",
   "source": [
    "#### Sharing code across cells\n",
    "\n",
    "Using code cells allows you to seperate logical chunks of code and run them independently. This organization supports improved troubleshooting and testing when writing new code and debugging sections of code and is well suited for creating step-by-step learning procedures.\n",
    "\n",
    "**Once you run a cell, you can use any variables or functions defined in that cell in other cells.**"
   ],
   "metadata": {}
  },
  {
   "cell_type": "code",
   "execution_count": 4,
   "source": [
    "event_name = \"DELTA Summer Shorts\"\n",
    "workshop_topic = \"Google Colaboratory\""
   ],
   "outputs": [],
   "metadata": {}
  },
  {
   "cell_type": "code",
   "execution_count": 2,
   "source": [
    "# A function that generates a welcome message\n",
    "def generate_welcome_message(event, topic):\n",
    "    return f\"Welcome to our {event_name} session on {workshop_topic}!\""
   ],
   "outputs": [],
   "metadata": {}
  },
  {
   "cell_type": "code",
   "execution_count": 5,
   "source": [
    "welcome = generate_welcome_message(event_name, workshop_topic)\n",
    "\n",
    "print(welcome)"
   ],
   "outputs": [
    {
     "output_type": "stream",
     "name": "stdout",
     "text": [
      "Welcome to our DELTA Summer Shorts session on Google Colaboratory!\n"
     ]
    }
   ],
   "metadata": {}
  },
  {
   "cell_type": "markdown",
   "source": [
    "#### Cell output\n",
    "\n",
    "By default, in Colab the last line that produces a value in a code cell is printed. To print an expression that is not at the end of a code cell use the `print()` function"
   ],
   "metadata": {}
  },
  {
   "cell_type": "code",
   "execution_count": 6,
   "source": [
    "print('This string is printed using the print function')\n",
    "\n",
    "'This line is not printed'\n",
    "\n",
    "'This string is printed because it is the last line in a code cell'"
   ],
   "outputs": [
    {
     "output_type": "stream",
     "name": "stdout",
     "text": [
      "This line will print.\n"
     ]
    },
    {
     "output_type": "execute_result",
     "data": {
      "text/plain": [
       "'This is the last line, so it will also print.'"
      ]
     },
     "metadata": {},
     "execution_count": 6
    }
   ],
   "metadata": {}
  },
  {
   "cell_type": "markdown",
   "source": [
    "Colab also supports formatted output such as tables and visualizations.\n",
    "\n",
    "In the following cell the [pandas](https://pandas.pydata.org/) library is used to create a DataFrame of fruits and fruit counts. When this DataFrame is printed it is automatically displayed as a formatted table."
   ],
   "metadata": {}
  },
  {
   "cell_type": "code",
   "execution_count": 3,
   "source": [
    "import pandas as pd\n",
    "\n",
    "# Create a table of fruits and the number of each type\n",
    "fruit = pd.DataFrame({'fruit': ['strawberries', 'pineapples', 'bananas'], 'count': [20, 2, 6]})\n",
    "fruit"
   ],
   "outputs": [
    {
     "output_type": "execute_result",
     "data": {
      "text/plain": [
       "          fruit  count\n",
       "0  strawberries     20\n",
       "1    pineapples      2\n",
       "2       bananas      6"
      ],
      "text/html": [
       "<div>\n",
       "<style scoped>\n",
       "    .dataframe tbody tr th:only-of-type {\n",
       "        vertical-align: middle;\n",
       "    }\n",
       "\n",
       "    .dataframe tbody tr th {\n",
       "        vertical-align: top;\n",
       "    }\n",
       "\n",
       "    .dataframe thead th {\n",
       "        text-align: right;\n",
       "    }\n",
       "</style>\n",
       "<table border=\"1\" class=\"dataframe\">\n",
       "  <thead>\n",
       "    <tr style=\"text-align: right;\">\n",
       "      <th></th>\n",
       "      <th>fruit</th>\n",
       "      <th>count</th>\n",
       "    </tr>\n",
       "  </thead>\n",
       "  <tbody>\n",
       "    <tr>\n",
       "      <th>0</th>\n",
       "      <td>strawberries</td>\n",
       "      <td>20</td>\n",
       "    </tr>\n",
       "    <tr>\n",
       "      <th>1</th>\n",
       "      <td>pineapples</td>\n",
       "      <td>2</td>\n",
       "    </tr>\n",
       "    <tr>\n",
       "      <th>2</th>\n",
       "      <td>bananas</td>\n",
       "      <td>6</td>\n",
       "    </tr>\n",
       "  </tbody>\n",
       "</table>\n",
       "</div>"
      ]
     },
     "metadata": {},
     "execution_count": 3
    }
   ],
   "metadata": {}
  },
  {
   "cell_type": "markdown",
   "source": [
    "In the following cell the [Altair](https://altair-viz.github.io/) visualization library is used to create a horizontal bar chart of fruit counts from the `fruit` DataFrame. Colab can display visualizations created with numerous Python visualization libraries."
   ],
   "metadata": {}
  },
  {
   "cell_type": "code",
   "execution_count": 10,
   "source": [
    "import altair as alt\n",
    "\n",
    "alt.Chart(fruit).mark_bar().encode(\n",
    "    x=\"count\",\n",
    "    y=\"fruit\"\n",
    ").properties(\n",
    "    width=200,\n",
    "    height=150\n",
    ")"
   ],
   "outputs": [
    {
     "output_type": "execute_result",
     "data": {
      "text/plain": [
       "alt.Chart(...)"
      ],
      "text/html": [
       "\n",
       "<div id=\"altair-viz-66b99a4a9f844d32b6bf8f802b0632b9\"></div>\n",
       "<script type=\"text/javascript\">\n",
       "  (function(spec, embedOpt){\n",
       "    let outputDiv = document.currentScript.previousElementSibling;\n",
       "    if (outputDiv.id !== \"altair-viz-66b99a4a9f844d32b6bf8f802b0632b9\") {\n",
       "      outputDiv = document.getElementById(\"altair-viz-66b99a4a9f844d32b6bf8f802b0632b9\");\n",
       "    }\n",
       "    const paths = {\n",
       "      \"vega\": \"https://cdn.jsdelivr.net/npm//vega@5?noext\",\n",
       "      \"vega-lib\": \"https://cdn.jsdelivr.net/npm//vega-lib?noext\",\n",
       "      \"vega-lite\": \"https://cdn.jsdelivr.net/npm//vega-lite@4.8.1?noext\",\n",
       "      \"vega-embed\": \"https://cdn.jsdelivr.net/npm//vega-embed@6?noext\",\n",
       "    };\n",
       "\n",
       "    function loadScript(lib) {\n",
       "      return new Promise(function(resolve, reject) {\n",
       "        var s = document.createElement('script');\n",
       "        s.src = paths[lib];\n",
       "        s.async = true;\n",
       "        s.onload = () => resolve(paths[lib]);\n",
       "        s.onerror = () => reject(`Error loading script: ${paths[lib]}`);\n",
       "        document.getElementsByTagName(\"head\")[0].appendChild(s);\n",
       "      });\n",
       "    }\n",
       "\n",
       "    function showError(err) {\n",
       "      outputDiv.innerHTML = `<div class=\"error\" style=\"color:red;\">${err}</div>`;\n",
       "      throw err;\n",
       "    }\n",
       "\n",
       "    function displayChart(vegaEmbed) {\n",
       "      vegaEmbed(outputDiv, spec, embedOpt)\n",
       "        .catch(err => showError(`Javascript Error: ${err.message}<br>This usually means there's a typo in your chart specification. See the javascript console for the full traceback.`));\n",
       "    }\n",
       "\n",
       "    if(typeof define === \"function\" && define.amd) {\n",
       "      requirejs.config({paths});\n",
       "      require([\"vega-embed\"], displayChart, err => showError(`Error loading script: ${err.message}`));\n",
       "    } else if (typeof vegaEmbed === \"function\") {\n",
       "      displayChart(vegaEmbed);\n",
       "    } else {\n",
       "      loadScript(\"vega\")\n",
       "        .then(() => loadScript(\"vega-lite\"))\n",
       "        .then(() => loadScript(\"vega-embed\"))\n",
       "        .catch(showError)\n",
       "        .then(() => displayChart(vegaEmbed));\n",
       "    }\n",
       "  })({\"config\": {\"view\": {\"continuousWidth\": 400, \"continuousHeight\": 300}}, \"data\": {\"name\": \"data-0626c5edd2559ba31ca777d48f425297\"}, \"mark\": \"bar\", \"encoding\": {\"x\": {\"type\": \"quantitative\", \"field\": \"count\"}, \"y\": {\"type\": \"nominal\", \"field\": \"fruit\"}}, \"height\": 150, \"width\": 200, \"$schema\": \"https://vega.github.io/schema/vega-lite/v4.8.1.json\", \"datasets\": {\"data-0626c5edd2559ba31ca777d48f425297\": [{\"fruit\": \"strawberries\", \"count\": 20}, {\"fruit\": \"pineapples\", \"count\": 2}, {\"fruit\": \"bananas\", \"count\": 6}]}}, {\"mode\": \"vega-lite\"});\n",
       "</script>"
      ]
     },
     "metadata": {},
     "execution_count": 10
    }
   ],
   "metadata": {}
  },
  {
   "cell_type": "markdown",
   "source": [
    "#### Code help\n",
    "\n",
    "Colab provides coding support in the form of easily accessible code documentation and automatic completion.\n",
    "\n",
    "One way to look up documentation for a specific function is to type the name of the function with a ? after it and run the cell. This will bring up a help window."
   ],
   "metadata": {}
  },
  {
   "cell_type": "code",
   "execution_count": 11,
   "source": [
    "#Run this cell to find out what len does\n",
    "len?"
   ],
   "outputs": [
    {
     "output_type": "stream",
     "name": "stdout",
     "text": [
      "\u001b[0;31mSignature:\u001b[0m \u001b[0mlen\u001b[0m\u001b[0;34m(\u001b[0m\u001b[0mobj\u001b[0m\u001b[0;34m,\u001b[0m \u001b[0;34m/\u001b[0m\u001b[0;34m)\u001b[0m\u001b[0;34m\u001b[0m\u001b[0;34m\u001b[0m\u001b[0m\n",
      "\u001b[0;31mDocstring:\u001b[0m Return the number of items in a container.\n",
      "\u001b[0;31mType:\u001b[0m      builtin_function_or_method\n"
     ]
    }
   ],
   "metadata": {}
  },
  {
   "cell_type": "markdown",
   "source": [
    "Using the pandas library imported earlier, you can test the autocompletion functionality in the cell below by typing a **Period** (**.**) after `pd`. You can also open the completion list by pressing **Ctrl+Space**."
   ],
   "metadata": {}
  },
  {
   "cell_type": "code",
   "execution_count": null,
   "source": [
    "# Add a period \".\" after pd to view a list of methods available on the pandas module\n",
    "pd"
   ],
   "outputs": [],
   "metadata": {}
  },
  {
   "cell_type": "markdown",
   "source": [
    "A documentation pop-up will also appear for functions after typing the open parenthesis of a function call. You can also open the documentation pop-up by pressing **Ctrl+Shift+Space** when the curser is between the parentheses or hovering over the method name."
   ],
   "metadata": {}
  },
  {
   "cell_type": "code",
   "execution_count": 12,
   "source": [
    "# Add an open parenthesis \"(\" after DataFrame to view a pop-up containing documentation for the DataFrame method\n",
    "pd.DataFrame"
   ],
   "outputs": [
    {
     "output_type": "execute_result",
     "data": {
      "text/plain": [
       "pandas.core.frame.DataFrame"
      ]
     },
     "metadata": {},
     "execution_count": 12
    }
   ],
   "metadata": {}
  },
  {
   "cell_type": "markdown",
   "source": [
    "## Accessing data"
   ],
   "metadata": {}
  },
  {
   "cell_type": "markdown",
   "source": [
    "### Connect to Google Drive"
   ],
   "metadata": {}
  },
  {
   "cell_type": "markdown",
   "source": [
    "### Connect to Google Sheets"
   ],
   "metadata": {}
  },
  {
   "cell_type": "markdown",
   "source": [
    "### Connect to external data source"
   ],
   "metadata": {}
  },
  {
   "cell_type": "markdown",
   "source": [
    "## Sharing a notebook from Colab"
   ],
   "metadata": {}
  },
  {
   "cell_type": "markdown",
   "source": [
    "## Finding and opening notebooks in Colab"
   ],
   "metadata": {}
  },
  {
   "cell_type": "markdown",
   "source": [
    "You can find and open Jupyter or Colab notebooks in Colab in several different ways, including through direct links as already mentioned. \n",
    "\n",
    "If you're browing Github or other open, git repository hosts, you might come across repositories with an \"Open in Colab\" button, like below.\n",
    "\n",
    "[![Open In Colab](https://colab.research.google.com/assets/colab-badge.svg)](https://colab.research.google.com/notebooks/intro.ipynb)\n",
    "\n",
    "These buttons open a specific notebook inside Colab, and allow you to create a copy for your own account if you want. In the Libraries, we use these buttons in our workshop repositories to make it easier for attendees to access our materials. \n",
    "\n",
    "Colab provides an interface in the application that provides several other options for opening notebooks in Colab. If you go to \"File\" -> \"Open notebook\" in Colab or go straight to [colab.research.google.com](http://colab.research.google.com), you'll reach the home screen of the app. In a pop-up, you'll have the option to view example notebooks, view your own recent notebooks, open notebooks from Google Drive or Github, or upload Jupyter notebooks from your own computer. Opening from Github is noteable, since it lets you identify a Github user, browse repositories, and open specific notebooks all within Colab. \n",
    "\n",
    "![Colab Open Notebook Interface](https://raw.githubusercontent.com/ncsu-libraries-data-vis/intro-to-colab-DELTA-summer-shorts/main/colab-open-interface.png)"
   ],
   "metadata": {}
  },
  {
   "cell_type": "markdown",
   "source": [
    "## Wrapping Up\n",
    "\n",
    "### Discussion Questions\n",
    "\n",
    "What are potential use cases for Google Colab in instruction settings? Research settings?\n",
    "\n",
    "What are the limitations?\n",
    "\n",
    "### Further Resources\n",
    "\n",
    "- Learn more about Colaboratory in general in the [Welcome Notebook](https://colab.research.google.com/notebooks/welcome.ipynb).\n",
    "- Learn more about coding in Python:\n",
    "    - [A Byte of Python](https://python.swaroopch.com/) is a great intro book and reference for Python\n",
    "    - [Official Python documentation and tutorials](https://docs.python.org/3/)\n",
    "    - [Real Python](https://realpython.com/) contains a lot of different tutorials at different levels\n",
    "    - [LinkedIn Learning](https://www.lynda.com/Python-training-tutorials/415-0.html) is free with NC State accounts and contains several video series for learning Python\n",
    "    - [Dataquest](https://www.dataquest.io/) is a free then paid series of courses with an emphasis on data science\n",
    "- [resource about interactive widgets]\n",
    "\n",
    "### Contact Us\n",
    "\n",
    "Questions after the session? Find us in the [Libraries Data & Visualization Services](https://www.lib.ncsu.edu/services/data-visualization)."
   ],
   "metadata": {}
  },
  {
   "cell_type": "code",
   "execution_count": null,
   "source": [],
   "outputs": [],
   "metadata": {}
  }
 ],
 "metadata": {
  "interpreter": {
   "hash": "1e42063d975c0c93cb52dab8d6fd0977fae18596e8917bdcf236b39e16eda17b"
  },
  "kernelspec": {
   "name": "python3",
   "display_name": "Python 3.8.10 64-bit ('streamlit': conda)"
  },
  "language_info": {
   "codemirror_mode": {
    "name": "ipython",
    "version": 3
   },
   "file_extension": ".py",
   "mimetype": "text/x-python",
   "name": "python",
   "nbconvert_exporter": "python",
   "pygments_lexer": "ipython3",
   "version": "3.8.10"
  }
 },
 "nbformat": 4,
 "nbformat_minor": 2
}